{
 "cells": [
  {
   "cell_type": "code",
   "execution_count": null,
   "metadata": {},
   "outputs": [],
   "source": [
    "import numpy as np\n",
    "import random\n",
    "import matplotlib.pyplot as plt\n",
    "from typing import List, Tuple\n",
    "from collections import deque\n",
    "import numpy as np\n",
    "import random\n",
    "import tensorflow as tf\n",
    "from tensorflow.keras import layers\n",
    "from collections import deque\n",
    "import tkinter as tk\n",
    "import time\n",
    "from typing import List, Tuple\n",
    "from datetime import datetime\n",
    "from collections import deque\n",
    "import pickle\n",
    "import os\n",
    "\n",
    "# Fonction pour initialiser la grille avec deux tuiles au départ\n",
    "def initialize_game() -> List[List[int]]:\n",
    "    board = [[0] * 4 for _ in range(4)]\n",
    "    add_new_tile(board)\n",
    "    add_new_tile(board)\n",
    "    return board\n",
    "\n",
    "\n",
    "# Fonction pour ajouter une nouvelle tuile (2 ou 4) à une position vide\n",
    "def add_new_tile(board: List[List[int]]) -> None:\n",
    "    empty_tiles = [(r, c) for r in range(4) for c in range(4) if board[r][c] == 0]\n",
    "    if empty_tiles:\n",
    "        r, c = random.choice(empty_tiles)\n",
    "        board[r][c] = 2 if random.random() < 0.9 else 4\n",
    "\n",
    "\n",
    "# Fonction pour fusionner une ligne ou une colonne de tuiles\n",
    "def merge(line: List[int]) -> Tuple[List[int], int]:\n",
    "    non_zero = [num for num in line if num != 0]\n",
    "    merged = []\n",
    "    score = 0\n",
    "    skip = False\n",
    "\n",
    "    for i in range(len(non_zero)):\n",
    "        if skip:\n",
    "            skip = False\n",
    "            continue\n",
    "        if i + 1 < len(non_zero) and non_zero[i] == non_zero[i + 1]:\n",
    "            merged.append(non_zero[i] * 2)\n",
    "            score += non_zero[i] * 2\n",
    "            skip = True\n",
    "        else:\n",
    "            merged.append(non_zero[i])\n",
    "\n",
    "    merged.extend([0] * (len(line) - len(merged)))\n",
    "    return merged, score\n",
    "\n",
    "\n",
    "# Fonction pour déplacer et fusionner les tuiles à gauche\n",
    "def move_left(board: List[List[int]]) -> Tuple[List[List[int]], int]:\n",
    "    score = 0\n",
    "    for i in range(4):\n",
    "        new_row, gained_score = merge(board[i])\n",
    "        board[i] = new_row\n",
    "        score += gained_score\n",
    "    return board, score\n",
    "\n",
    "\n",
    "# Fonction pour déplacer et fusionner les tuiles à droite\n",
    "def move_right(board: List[List[int]]) -> Tuple[List[List[int]], int]:\n",
    "    score = 0\n",
    "    for i in range(4):\n",
    "        new_row, gained_score = merge(board[i][::-1])\n",
    "        board[i] = new_row[::-1]\n",
    "        score += gained_score\n",
    "    return board, score\n",
    "\n",
    "\n",
    "# Fonction pour déplacer et fusionner les tuiles vers le haut\n",
    "def move_up(board: List[List[int]]) -> Tuple[List[List[int]], int]:\n",
    "    score = 0\n",
    "    for col in range(4):\n",
    "        column = [board[row][col] for row in range(4)]\n",
    "        new_column, gained_score = merge(column)\n",
    "        score += gained_score\n",
    "        for row in range(4):\n",
    "            board[row][col] = new_column[row]\n",
    "    return board, score\n",
    "\n",
    "\n",
    "# Fonction pour déplacer et fusionner les tuiles vers le bas\n",
    "def move_down(board: List[List[int]]) -> Tuple[List[List[int]], int]:\n",
    "    score = 0\n",
    "    for col in range(4):\n",
    "        column = [board[row][col] for row in range(4)]\n",
    "        new_column, gained_score = merge(column[::-1])\n",
    "        score += gained_score\n",
    "        for row in range(4):\n",
    "            board[row][col] = new_column[::-1][row]\n",
    "    return board, score\n",
    "\n",
    "\n",
    "# Fonction pour vérifier si le joueur a gagné la partie\n",
    "def check_win(board: List[List[int]]) -> bool:\n",
    "    return any(2048 in row for row in board)\n",
    "\n",
    "\n",
    "# Fonction pour vérifier si le jeu est terminé\n",
    "def check_game_over(board: List[List[int]]) -> bool:\n",
    "    if any(0 in row for row in board):\n",
    "        return False\n",
    "    for row in board:\n",
    "        for i in range(3):\n",
    "            if row[i] == row[i + 1]:\n",
    "                return False\n",
    "    for col in range(4):\n",
    "        for i in range(3):\n",
    "            if board[i][col] == board[i + 1][col]:\n",
    "                return False\n",
    "    return True\n",
    "\n"
   ]
  },
  {
   "cell_type": "code",
   "execution_count": null,
   "metadata": {},
   "outputs": [],
   "source": [
    "class Game2048Env:\n",
    "    def _init_(self) -> None:\n",
    "        self.reset()\n",
    "\n",
    "    def reset(self) -> np.ndarray:\n",
    "        self.board = initialize_game()\n",
    "        self.total_score = 0\n",
    "        return np.array(self.board)\n",
    "\n",
    "    def step(self, action: int) -> Tuple[np.ndarray, int, bool]:\n",
    "        prev_board = np.copy(self.board)\n",
    "        score = 0\n",
    "\n",
    "        if action == 0:\n",
    "            self.board, score = move_up(self.board)\n",
    "        elif action == 1:\n",
    "            self.board, score = move_down(self.board)\n",
    "        elif action == 2:\n",
    "            self.board, score = move_left(self.board)\n",
    "        elif action == 3:\n",
    "            self.board, score = move_right(self.board)\n",
    "\n",
    "        if not np.array_equal(prev_board, self.board):\n",
    "            add_new_tile(self.board)\n",
    "\n",
    "        self.total_score += score\n",
    "        done = check_win(self.board) or check_game_over(self.board)\n",
    "\n",
    "        return np.array(self.board), score, done\n",
    "    \n",
    "    def record_high_score(self, score: int, agent) -> None:\n",
    "        \"\"\"\n",
    "        Enregistre le score et la case avec le plus haut chiffre.\n",
    "\n",
    "        Args:\n",
    "            score (int): Le score total réalisé dans l'épisode.\n",
    "        \"\"\"\n",
    "        # Recherche la case avec le plus haut chiffre\n",
    "        max_tile = max(max(row) for row in self.board)\n",
    "        num_layers = len(agent.model.layers)  # Nombre de couches du modèle\n",
    "        total_params = agent.model.count_params()  # Nombre total de paramètres\n",
    "        current_epsilon = agent.epsilon  # Valeur actuelle de epsilon\n",
    "        \n",
    "        high_score_entry = {\n",
    "            \"date\": datetime.now().strftime(\"%Y-%m-%d %H:%M:%S\"),\n",
    "            \"score\": score,\n",
    "            \"max_tile\": max_tile,\n",
    "            \"num_layers\": num_layers,\n",
    "            \"total_params\": total_params,\n",
    "            \"current_epsilon\": current_epsilon,\n",
    "            \"learning_rate\": agent.learning_rate,\n",
    "            \"gamma\": agent.gamma,\n",
    "        }\n",
    "        # Enregistre l'entrée dans un fichier\n",
    "        with open(\"high_scores.txt\", \"a\") as f:\n",
    "            f.write(f\"{high_score_entry['date']} - Score: {high_score_entry['score']}, Max Tile: {high_score_entry['max_tile']}, \"\n",
    "                    f\"Layers: {high_score_entry['num_layers']}, Params: {high_score_entry['total_params']}, \"\n",
    "                    f\"Epsilon: {high_score_entry['current_epsilon']}, \"\n",
    "                    f\"Learning Rate: {high_score_entry['learning_rate']}, \"\n",
    "                    f\"Gamma: {high_score_entry['gamma']}\\n\")\n",
    "    \n"
   ]
  },
  {
   "cell_type": "code",
   "execution_count": 32,
   "metadata": {},
   "outputs": [],
   "source": [
    "# Classe DQNAgent pour l'entraînement par renforcement\n",
    "class DQNAgent:\n",
    "    def __init__(self, input_shape, num_actions, model_file='dqn6_model.keras', tau=1.0):\n",
    "        self.num_actions = num_actions\n",
    "        self.memory = deque(maxlen=2000)\n",
    "        self.gamma = 0.95  # Discount rate\n",
    "        self.epsilon = 1.0  # Exploration rate\n",
    "        self.epsilon_min = 0.1\n",
    "        self.epsilon_decay = 0.985\n",
    "        self.tau = max(tau, 1e-3) # Boltzmann temperature\n",
    "        self.learning_rate = 0.001  # Learning rate\n",
    "\n",
    "        # Création du modèle de Q-Network et du Target Network\n",
    "        self.model = self.create_model(input_shape, num_actions)\n",
    "        self.target_model = self.create_model(input_shape, num_actions)\n",
    "\n",
    "        # Fichiers pour sauvegarder la mémoire et les poids\n",
    "        self.model_file = model_file\n",
    "        \n",
    "        # Chargement de la mémoire et des poids si disponibles\n",
    "        self.load_model(self.model_file)\n",
    "        \n",
    "    def load_model(self, filename):\n",
    "        \"\"\"Charge un modèle depuis un fichier, si disponible.\"\"\"\n",
    "        if os.path.exists(filename):\n",
    "            self.model = tf.keras.models.load_model(filename)\n",
    "            # Recrée le modèle cible pour qu'il soit identique au modèle chargé\n",
    "            self.target_model = tf.keras.models.clone_model(self.model)\n",
    "            self.target_model.build(self.model.input_shape)  # Initialise le modèle avec la même forme d'entrée\n",
    "            self.update_target_model() # Synchronise les poids entre le modèle et le modèle cible\n",
    "        \n",
    "    def create_model(self, input_shape, num_actions):\n",
    "        model = tf.keras.Sequential([\n",
    "            layers.Input(shape=input_shape),\n",
    "            layers.Flatten(),\n",
    "            layers.Dense(256, activation='relu'),\n",
    "            layers.Dense(256, activation='relu'),\n",
    "            layers.Dense(128, activation='relu'),\n",
    "            layers.Dense(128, activation='relu'),\n",
    "            layers.Dense(num_actions, activation='linear')  # Output: Q-values for each action\n",
    "        ])\n",
    "        model.compile(optimizer=tf.keras.optimizers.Adam(learning_rate=self.learning_rate), loss='mse')\n",
    "\n",
    "        return model\n",
    "\n",
    "    def update_target_model(self):\n",
    "        # Met à jour le modèle cible avec les poids du modèle principal\n",
    "        self.target_model.set_weights(self.model.get_weights())\n",
    "\n",
    "    def remember(self, state, action, reward, next_state, done):\n",
    "        # Sauvegarde la transition dans la mémoire\n",
    "        self.memory.append((state, action, reward, next_state, done))\n",
    "    import tensorflow as tf\n",
    "\n",
    "    @staticmethod\n",
    "    def boltzmann_policy(q_values, tau=1.0):\n",
    "        # Avoid NaN by setting tau to a minimum threshold\n",
    "            tau = max(tau, 1e-3)\n",
    "            \n",
    "            # Calculate exponentials for Boltzmann probabilities\n",
    "            exp_q = np.exp(q_values / tau - np.max(q_values / tau))  # Subtract max for numerical stability\n",
    "            sum_exp_q = np.sum(exp_q)\n",
    "            \n",
    "            # Handle the case where sum_exp_q might be zero to avoid division by zero\n",
    "            if sum_exp_q == 0:\n",
    "                probs = np.ones(len(q_values)) / len(q_values)  # Assign uniform probabilities if all are zero\n",
    "            else:\n",
    "                probs = exp_q / sum_exp_q  # Calculate probabilities\n",
    "\n",
    "            # Ensure no NaNs in the final probabilities\n",
    "            probs = np.nan_to_num(probs, nan=1.0 / len(q_values))  # Replace NaNs with uniform probabilities\n",
    "            \n",
    "            return np.random.choice(len(q_values), p=probs)\n",
    "\n",
    "    def act(self, state):\n",
    "        # Politique ε-greedy : explore avec probabilité epsilon, sinon exploite\n",
    "        if np.random.rand() <= self.epsilon:\n",
    "            return random.randrange(self.num_actions)\n",
    "        q_values = self.model.predict(state, verbose=0)[0]\n",
    "        return self.boltzmann_policy(q_values, self.tau)\n",
    "        # q_values = self.model.predict(state, verbose=0)  # Prédit les Q-values pour chaque action\n",
    "        # return np.argmax(q_values[0])  # Choisit l'action avec la Q-value la plus élevée\n",
    "\n",
    "    def train(self):\n",
    "        # Sample a minibatch and perform prioritized experience replay if implemented\n",
    "        # Update model based on Q-learning or Double Q-learning\n",
    "        # Decay epsilon to reduce exploration over time\n",
    "        if self.epsilon > self.epsilon_min:\n",
    "            self.epsilon *= self.epsilon_decay\n",
    "            \n",
    "    def replay(self):\n",
    "        if len(self.memory) < 64:  # Attends que la mémoire ait assez d'expériences\n",
    "            return\n",
    "        minibatch = random.sample(self.memory, 64)  # Sélectionne un échantillon de la mémoire\n",
    "        for state, action, reward, next_state, done in minibatch:\n",
    "            target = self.model.predict(state, verbose=0)\n",
    "            if done:\n",
    "                target[0][action] = reward  # Récompense si l'épisode est terminé\n",
    "            else:\n",
    "                t = self.target_model.predict(next_state, verbose=0)\n",
    "                target[0][action] = reward + self.gamma * np.amax(t[0])  # Q-value cible\n",
    "\n",
    "            self.model.fit(state, target, epochs=1, verbose=0)\n",
    "\n",
    "        # Réduit epsilon (exploration) au fil du temps\n",
    "        if self.epsilon > self.epsilon_min:\n",
    "            self.epsilon *= self.epsilon_decay\n",
    "    \n",
    "    def save_model(self):\n",
    "        \"\"\"Enregistre le modèle actuel dans un fichier.\"\"\"\n",
    "        #self.model.save(self.model_file)\n",
    "        self.model.save(\"dqn_model6.keras\")\n",
    "            \n",
    "    def load_memory(self):\n",
    "        \"\"\"Charge la mémoire depuis un fichier.\"\"\"\n",
    "        memory_file = \"memory.pkl\"\n",
    "        if os.path.exists(memory_file):\n",
    "            with open(memory_file, \"rb\") as f:\n",
    "                self.memory = pickle.load(f)       \n",
    "    def save_memory(self):\n",
    "        \"\"\"Sauvegarde la mémoire dans un fichier.\"\"\"\n",
    "        with open(self.memory_file, 'wb') as f:\n",
    "            pickle.dump(self.memory, f)\n",
    "                     \n",
    "\n",
    "# Exécute des parties aléatoires et collecte les scores\n",
    "def play_random_games(num_games: int) -> List[int]:\n",
    "    env = Game2048Env()\n",
    "    scores = []\n",
    "\n",
    "    for _ in range(num_games):\n",
    "        env.reset()\n",
    "        done = False\n",
    "        while not done:\n",
    "            action = random.randint(0, 3)  # Choisit une action aléatoire (0: haut, 1: bas, 2: gauche, 3: droite)\n",
    "            _, score, done = env.step(action)\n",
    "        scores.append(env.total_score)\n",
    "        # Appelle la méthode pour enregistrer le score\n",
    "    \n",
    "\n",
    "    return scores\n",
    "\n"
   ]
  },
  {
   "cell_type": "code",
   "execution_count": 34,
   "metadata": {},
   "outputs": [],
   "source": [
    "def train_agent(num_episodes: int) -> List[int]:\n",
    "    env = Game2048Env()\n",
    "    agent = DQNAgent(input_shape=(4, 4), num_actions=4)\n",
    "    scores = []\n",
    "\n",
    "    for episode in range(num_episodes):\n",
    "        state = env.reset()\n",
    "        done = False\n",
    "        total_score = 0\n",
    "        \n",
    "        while not done:\n",
    "            # state_key = agent.get_state_key(state)\n",
    "            # action = agent.choose_action(state_key)\n",
    "            # next_state, reward, done = env.step(action)\n",
    "            # next_state_key = agent.get_state_key(next_state)\n",
    "            # agent.update_q_value(state_key, action, reward, next_state_key)\n",
    "\n",
    "            # state = next_state\n",
    "            # total_score += reward\n",
    "            action = agent.act(state)\n",
    "            next_state, reward, done = env.step(action)  # Appel à step de Game2048Env\n",
    "            next_state = next_state.reshape(1, 4, 4)\n",
    "\n",
    "            # total_reward += reward\n",
    "            total_score = env.total_score  # Suivre le score total\n",
    "            # max_tile = env.max_tile (si cette variable existe dans Game2048Env)\n",
    "            \n",
    "            agent.remember(state, action, reward, next_state, done)\n",
    "            state = next_state\n",
    "            if done :\n",
    "                env.record_high_score(total_score, agent)\n",
    "        scores.append(total_score)\n",
    "\n",
    "    return scores\n",
    "\n",
    "\n",
    "# Nombre de parties à jouer\n",
    "num_games = 5000\n",
    "# scores = play_random_games(num_games)\n",
    "scores = train_agent(num_games)\n",
    "score_counts = np.unique(scores, return_counts=True)\n"
   ]
  },
  {
   "cell_type": "code",
   "execution_count": 35,
   "metadata": {},
   "outputs": [
    {
     "data": {
      "image/png": "[encoded data removed]",
      "text/plain": [
       "<Figure size 1000x500 with 1 Axes>"
      ]
     },
     "metadata": {},
     "output_type": "display_data"
    }
   ],
   "source": [
    "# Affichage des résultats\n",
    "plt.figure(figsize=(10, 5))\n",
    "plt.bar(range(len(scores)), scores)\n",
    "plt.xlabel('Episodes')\n",
    "plt.ylabel('Score')\n",
    "plt.title('Distribution des scores de l’agent aléatoire dans 2048')\n",
    "plt.show()\n"
   ]
  },
  {
   "cell_type": "code",
   "execution_count": null,
   "metadata": {},
   "outputs": [],
   "source": []
  },
  {
   "cell_type": "code",
   "execution_count": null,
   "metadata": {},
   "outputs": [],
   "source": []
  },
  {
   "cell_type": "code",
   "execution_count": 20,
   "metadata": {},
   "outputs": [
    {
     "data": {
      "text/html": [
       "<pre style=\"white-space:pre;overflow-x:auto;line-height:normal;font-family:Menlo,'DejaVu Sans Mono',consolas,'Courier New',monospace\"><span style=\"font-weight: bold\">Model: \"sequential_36\"</span>\n",
       "</pre>\n"
      ],
      "text/plain": [
       "\u001b[1mModel: \"sequential_36\"\u001b[0m\n"
      ]
     },
     "metadata": {},
     "output_type": "display_data"
    },
    {
     "data": {
      "text/html": [
       "<pre style=\"white-space:pre;overflow-x:auto;line-height:normal;font-family:Menlo,'DejaVu Sans Mono',consolas,'Courier New',monospace\">┏━━━━━━━━━━━━━━━━━━━━━━━━━━━━━━━━━┳━━━━━━━━━━━━━━━━━━━━━━━━┳━━━━━━━━━━━━━━━┓\n",
       "┃<span style=\"font-weight: bold\"> Layer (type)                    </span>┃<span style=\"font-weight: bold\"> Output Shape           </span>┃<span style=\"font-weight: bold\">       Param # </span>┃\n",
       "┡━━━━━━━━━━━━━━━━━━━━━━━━━━━━━━━━━╇━━━━━━━━━━━━━━━━━━━━━━━━╇━━━━━━━━━━━━━━━┩\n",
       "│ flatten_36 (<span style=\"color: #0087ff; text-decoration-color: #0087ff\">Flatten</span>)            │ (<span style=\"color: #00d7ff; text-decoration-color: #00d7ff\">None</span>, <span style=\"color: #00af00; text-decoration-color: #00af00\">16</span>)             │             <span style=\"color: #00af00; text-decoration-color: #00af00\">0</span> │\n",
       "├─────────────────────────────────┼────────────────────────┼───────────────┤\n",
       "│ dense_108 (<span style=\"color: #0087ff; text-decoration-color: #0087ff\">Dense</span>)               │ (<span style=\"color: #00d7ff; text-decoration-color: #00d7ff\">None</span>, <span style=\"color: #00af00; text-decoration-color: #00af00\">128</span>)            │         <span style=\"color: #00af00; text-decoration-color: #00af00\">2,176</span> │\n",
       "├─────────────────────────────────┼────────────────────────┼───────────────┤\n",
       "│ dense_109 (<span style=\"color: #0087ff; text-decoration-color: #0087ff\">Dense</span>)               │ (<span style=\"color: #00d7ff; text-decoration-color: #00d7ff\">None</span>, <span style=\"color: #00af00; text-decoration-color: #00af00\">128</span>)            │        <span style=\"color: #00af00; text-decoration-color: #00af00\">16,512</span> │\n",
       "├─────────────────────────────────┼────────────────────────┼───────────────┤\n",
       "│ dense_110 (<span style=\"color: #0087ff; text-decoration-color: #0087ff\">Dense</span>)               │ (<span style=\"color: #00d7ff; text-decoration-color: #00d7ff\">None</span>, <span style=\"color: #00af00; text-decoration-color: #00af00\">4</span>)              │           <span style=\"color: #00af00; text-decoration-color: #00af00\">516</span> │\n",
       "└─────────────────────────────────┴────────────────────────┴───────────────┘\n",
       "</pre>\n"
      ],
      "text/plain": [
       "┏━━━━━━━━━━━━━━━━━━━━━━━━━━━━━━━━━┳━━━━━━━━━━━━━━━━━━━━━━━━┳━━━━━━━━━━━━━━━┓\n",
       "┃\u001b[1m \u001b[0m\u001b[1mLayer (type)                   \u001b[0m\u001b[1m \u001b[0m┃\u001b[1m \u001b[0m\u001b[1mOutput Shape          \u001b[0m\u001b[1m \u001b[0m┃\u001b[1m \u001b[0m\u001b[1m      Param #\u001b[0m\u001b[1m \u001b[0m┃\n",
       "┡━━━━━━━━━━━━━━━━━━━━━━━━━━━━━━━━━╇━━━━━━━━━━━━━━━━━━━━━━━━╇━━━━━━━━━━━━━━━┩\n",
       "│ flatten_36 (\u001b[38;5;33mFlatten\u001b[0m)            │ (\u001b[38;5;45mNone\u001b[0m, \u001b[38;5;34m16\u001b[0m)             │             \u001b[38;5;34m0\u001b[0m │\n",
       "├─────────────────────────────────┼────────────────────────┼───────────────┤\n",
       "│ dense_108 (\u001b[38;5;33mDense\u001b[0m)               │ (\u001b[38;5;45mNone\u001b[0m, \u001b[38;5;34m128\u001b[0m)            │         \u001b[38;5;34m2,176\u001b[0m │\n",
       "├─────────────────────────────────┼────────────────────────┼───────────────┤\n",
       "│ dense_109 (\u001b[38;5;33mDense\u001b[0m)               │ (\u001b[38;5;45mNone\u001b[0m, \u001b[38;5;34m128\u001b[0m)            │        \u001b[38;5;34m16,512\u001b[0m │\n",
       "├─────────────────────────────────┼────────────────────────┼───────────────┤\n",
       "│ dense_110 (\u001b[38;5;33mDense\u001b[0m)               │ (\u001b[38;5;45mNone\u001b[0m, \u001b[38;5;34m4\u001b[0m)              │           \u001b[38;5;34m516\u001b[0m │\n",
       "└─────────────────────────────────┴────────────────────────┴───────────────┘\n"
      ]
     },
     "metadata": {},
     "output_type": "display_data"
    },
    {
     "data": {
      "text/html": [
       "<pre style=\"white-space:pre;overflow-x:auto;line-height:normal;font-family:Menlo,'DejaVu Sans Mono',consolas,'Courier New',monospace\"><span style=\"font-weight: bold\"> Total params: </span><span style=\"color: #00af00; text-decoration-color: #00af00\">57,614</span> (225.06 KB)\n",
       "</pre>\n"
      ],
      "text/plain": [
       "\u001b[1m Total params: \u001b[0m\u001b[38;5;34m57,614\u001b[0m (225.06 KB)\n"
      ]
     },
     "metadata": {},
     "output_type": "display_data"
    },
    {
     "data": {
      "text/html": [
       "<pre style=\"white-space:pre;overflow-x:auto;line-height:normal;font-family:Menlo,'DejaVu Sans Mono',consolas,'Courier New',monospace\"><span style=\"font-weight: bold\"> Trainable params: </span><span style=\"color: #00af00; text-decoration-color: #00af00\">19,204</span> (75.02 KB)\n",
       "</pre>\n"
      ],
      "text/plain": [
       "\u001b[1m Trainable params: \u001b[0m\u001b[38;5;34m19,204\u001b[0m (75.02 KB)\n"
      ]
     },
     "metadata": {},
     "output_type": "display_data"
    },
    {
     "data": {
      "text/html": [
       "<pre style=\"white-space:pre;overflow-x:auto;line-height:normal;font-family:Menlo,'DejaVu Sans Mono',consolas,'Courier New',monospace\"><span style=\"font-weight: bold\"> Non-trainable params: </span><span style=\"color: #00af00; text-decoration-color: #00af00\">0</span> (0.00 B)\n",
       "</pre>\n"
      ],
      "text/plain": [
       "\u001b[1m Non-trainable params: \u001b[0m\u001b[38;5;34m0\u001b[0m (0.00 B)\n"
      ]
     },
     "metadata": {},
     "output_type": "display_data"
    },
    {
     "data": {
      "text/html": [
       "<pre style=\"white-space:pre;overflow-x:auto;line-height:normal;font-family:Menlo,'DejaVu Sans Mono',consolas,'Courier New',monospace\"><span style=\"font-weight: bold\"> Optimizer params: </span><span style=\"color: #00af00; text-decoration-color: #00af00\">38,410</span> (150.04 KB)\n",
       "</pre>\n"
      ],
      "text/plain": [
       "\u001b[1m Optimizer params: \u001b[0m\u001b[38;5;34m38,410\u001b[0m (150.04 KB)\n"
      ]
     },
     "metadata": {},
     "output_type": "display_data"
    },
    {
     "name": "stdout",
     "output_type": "stream",
     "text": [
      "None\n"
     ]
    }
   ],
   "source": [
    "agent = DQNAgent(input_shape=(4, 4), num_actions=4)\n",
    "\n",
    "# Après avoir créé le modèle, vous pouvez vérifier le nombre de couches\n",
    "# num_layers = len(agent.model.layers)\n",
    "# print(f\"Nombre de couches dans le modèle : {num_layers}\")\n",
    "\n",
    "print(agent.model.summary())"
   ]
  },
  {
   "cell_type": "code",
   "execution_count": 22,
   "metadata": {},
   "outputs": [
    {
     "data": {
      "text/html": [
       "<pre style=\"white-space:pre;overflow-x:auto;line-height:normal;font-family:Menlo,'DejaVu Sans Mono',consolas,'Courier New',monospace\"><span style=\"font-weight: bold\">Model: \"sequential_23\"</span>\n",
       "</pre>\n"
      ],
      "text/plain": [
       "\u001b[1mModel: \"sequential_23\"\u001b[0m\n"
      ]
     },
     "metadata": {},
     "output_type": "display_data"
    },
    {
     "data": {
      "text/html": [
       "<pre style=\"white-space:pre;overflow-x:auto;line-height:normal;font-family:Menlo,'DejaVu Sans Mono',consolas,'Courier New',monospace\">┏━━━━━━━━━━━━━━━━━━━━━━━━━━━━━━━━━┳━━━━━━━━━━━━━━━━━━━━━━━━┳━━━━━━━━━━━━━━━┓\n",
       "┃<span style=\"font-weight: bold\"> Layer (type)                    </span>┃<span style=\"font-weight: bold\"> Output Shape           </span>┃<span style=\"font-weight: bold\">       Param # </span>┃\n",
       "┡━━━━━━━━━━━━━━━━━━━━━━━━━━━━━━━━━╇━━━━━━━━━━━━━━━━━━━━━━━━╇━━━━━━━━━━━━━━━┩\n",
       "│ dense_121 (<span style=\"color: #0087ff; text-decoration-color: #0087ff\">Dense</span>)               │ (<span style=\"color: #00d7ff; text-decoration-color: #00d7ff\">None</span>, <span style=\"color: #00af00; text-decoration-color: #00af00\">10</span>)             │            <span style=\"color: #00af00; text-decoration-color: #00af00\">50</span> │\n",
       "├─────────────────────────────────┼────────────────────────┼───────────────┤\n",
       "│ dense_122 (<span style=\"color: #0087ff; text-decoration-color: #0087ff\">Dense</span>)               │ (<span style=\"color: #00d7ff; text-decoration-color: #00d7ff\">None</span>, <span style=\"color: #00af00; text-decoration-color: #00af00\">5</span>)              │            <span style=\"color: #00af00; text-decoration-color: #00af00\">55</span> │\n",
       "├─────────────────────────────────┼────────────────────────┼───────────────┤\n",
       "│ dense_123 (<span style=\"color: #0087ff; text-decoration-color: #0087ff\">Dense</span>)               │ (<span style=\"color: #00d7ff; text-decoration-color: #00d7ff\">None</span>, <span style=\"color: #00af00; text-decoration-color: #00af00\">2</span>)              │            <span style=\"color: #00af00; text-decoration-color: #00af00\">12</span> │\n",
       "├─────────────────────────────────┼────────────────────────┼───────────────┤\n",
       "│ dense_124 (<span style=\"color: #0087ff; text-decoration-color: #0087ff\">Dense</span>)               │ (<span style=\"color: #00d7ff; text-decoration-color: #00d7ff\">None</span>, <span style=\"color: #00af00; text-decoration-color: #00af00\">5</span>)              │            <span style=\"color: #00af00; text-decoration-color: #00af00\">15</span> │\n",
       "├─────────────────────────────────┼────────────────────────┼───────────────┤\n",
       "│ dense_125 (<span style=\"color: #0087ff; text-decoration-color: #0087ff\">Dense</span>)               │ (<span style=\"color: #00d7ff; text-decoration-color: #00d7ff\">None</span>, <span style=\"color: #00af00; text-decoration-color: #00af00\">5</span>)              │            <span style=\"color: #00af00; text-decoration-color: #00af00\">30</span> │\n",
       "└─────────────────────────────────┴────────────────────────┴───────────────┘\n",
       "</pre>\n"
      ],
      "text/plain": [
       "┏━━━━━━━━━━━━━━━━━━━━━━━━━━━━━━━━━┳━━━━━━━━━━━━━━━━━━━━━━━━┳━━━━━━━━━━━━━━━┓\n",
       "┃\u001b[1m \u001b[0m\u001b[1mLayer (type)                   \u001b[0m\u001b[1m \u001b[0m┃\u001b[1m \u001b[0m\u001b[1mOutput Shape          \u001b[0m\u001b[1m \u001b[0m┃\u001b[1m \u001b[0m\u001b[1m      Param #\u001b[0m\u001b[1m \u001b[0m┃\n",
       "┡━━━━━━━━━━━━━━━━━━━━━━━━━━━━━━━━━╇━━━━━━━━━━━━━━━━━━━━━━━━╇━━━━━━━━━━━━━━━┩\n",
       "│ dense_121 (\u001b[38;5;33mDense\u001b[0m)               │ (\u001b[38;5;45mNone\u001b[0m, \u001b[38;5;34m10\u001b[0m)             │            \u001b[38;5;34m50\u001b[0m │\n",
       "├─────────────────────────────────┼────────────────────────┼───────────────┤\n",
       "│ dense_122 (\u001b[38;5;33mDense\u001b[0m)               │ (\u001b[38;5;45mNone\u001b[0m, \u001b[38;5;34m5\u001b[0m)              │            \u001b[38;5;34m55\u001b[0m │\n",
       "├─────────────────────────────────┼────────────────────────┼───────────────┤\n",
       "│ dense_123 (\u001b[38;5;33mDense\u001b[0m)               │ (\u001b[38;5;45mNone\u001b[0m, \u001b[38;5;34m2\u001b[0m)              │            \u001b[38;5;34m12\u001b[0m │\n",
       "├─────────────────────────────────┼────────────────────────┼───────────────┤\n",
       "│ dense_124 (\u001b[38;5;33mDense\u001b[0m)               │ (\u001b[38;5;45mNone\u001b[0m, \u001b[38;5;34m5\u001b[0m)              │            \u001b[38;5;34m15\u001b[0m │\n",
       "├─────────────────────────────────┼────────────────────────┼───────────────┤\n",
       "│ dense_125 (\u001b[38;5;33mDense\u001b[0m)               │ (\u001b[38;5;45mNone\u001b[0m, \u001b[38;5;34m5\u001b[0m)              │            \u001b[38;5;34m30\u001b[0m │\n",
       "└─────────────────────────────────┴────────────────────────┴───────────────┘\n"
      ]
     },
     "metadata": {},
     "output_type": "display_data"
    },
    {
     "data": {
      "text/html": [
       "<pre style=\"white-space:pre;overflow-x:auto;line-height:normal;font-family:Menlo,'DejaVu Sans Mono',consolas,'Courier New',monospace\"><span style=\"font-weight: bold\"> Total params: </span><span style=\"color: #00af00; text-decoration-color: #00af00\">162</span> (648.00 B)\n",
       "</pre>\n"
      ],
      "text/plain": [
       "\u001b[1m Total params: \u001b[0m\u001b[38;5;34m162\u001b[0m (648.00 B)\n"
      ]
     },
     "metadata": {},
     "output_type": "display_data"
    },
    {
     "data": {
      "text/html": [
       "<pre style=\"white-space:pre;overflow-x:auto;line-height:normal;font-family:Menlo,'DejaVu Sans Mono',consolas,'Courier New',monospace\"><span style=\"font-weight: bold\"> Trainable params: </span><span style=\"color: #00af00; text-decoration-color: #00af00\">162</span> (648.00 B)\n",
       "</pre>\n"
      ],
      "text/plain": [
       "\u001b[1m Trainable params: \u001b[0m\u001b[38;5;34m162\u001b[0m (648.00 B)\n"
      ]
     },
     "metadata": {},
     "output_type": "display_data"
    },
    {
     "data": {
      "text/html": [
       "<pre style=\"white-space:pre;overflow-x:auto;line-height:normal;font-family:Menlo,'DejaVu Sans Mono',consolas,'Courier New',monospace\"><span style=\"font-weight: bold\"> Non-trainable params: </span><span style=\"color: #00af00; text-decoration-color: #00af00\">0</span> (0.00 B)\n",
       "</pre>\n"
      ],
      "text/plain": [
       "\u001b[1m Non-trainable params: \u001b[0m\u001b[38;5;34m0\u001b[0m (0.00 B)\n"
      ]
     },
     "metadata": {},
     "output_type": "display_data"
    }
   ],
   "source": [
    "test_model = tf.keras.Sequential([\n",
    "    layers.Dense(10, activation='relu', input_shape=(4,)),\n",
    "    layers.Dense(5, activation='relu'),\n",
    "    layers.Dense(2, activation='softmax'),\n",
    "    layers.Dense(5, activation='relu'),\n",
    "    layers.Dense(5, activation='relu'),\n",
    "])\n",
    "\n",
    "test_model.summary()  # Vérifiez combien de couches apparaissent ici\n"
   ]
  }
 ],
 "metadata": {
  "kernelspec": {
   "display_name": "Python 3",
   "language": "python",
   "name": "python3"
  },
  "language_info": {
   "codemirror_mode": {
    "name": "ipython",
    "version": 3
   },
   "file_extension": ".py",
   "mimetype": "text/x-python",
   "name": "python",
   "nbconvert_exporter": "python",
   "pygments_lexer": "ipython3",
   "version": "3.12.4"
  }
 },
 "nbformat": 4,
 "nbformat_minor": 2
}
